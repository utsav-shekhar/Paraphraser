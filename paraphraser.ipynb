{
  "cells": [
    {
      "cell_type": "code",
      "execution_count": null,
      "metadata": {
        "colab": {
          "base_uri": "https://localhost:8080/"
        },
        "id": "0BLPZW5njw9X",
        "outputId": "cf579c97-491e-4c74-bd54-535d9c9cd0e9"
      },
      "outputs": [
        {
          "output_type": "stream",
          "name": "stdout",
          "text": [
            "Looking in indexes: https://pypi.org/simple, https://us-python.pkg.dev/colab-wheels/public/simple/\n",
            "Requirement already satisfied: sentence-splitter in /usr/local/lib/python3.7/dist-packages (1.4)\n",
            "Requirement already satisfied: regex>=2017.12.12 in /usr/local/lib/python3.7/dist-packages (from sentence-splitter) (2022.6.2)\n"
          ]
        }
      ],
      "source": [
        "#we use sentence-splitter library for using the enbuilt nlp operations in it\n",
        "! pip install sentence-splitter\n",
        "#this module allows us to split the sentences in a paragraph into individual sentences regardless of the context"
      ]
    },
    {
      "cell_type": "code",
      "execution_count": null,
      "metadata": {
        "colab": {
          "base_uri": "https://localhost:8080/"
        },
        "id": "YnoAGPeKk6BW",
        "outputId": "9965d5d8-ca53-42e1-c908-9e0e04e3e4d8"
      },
      "outputs": [
        {
          "output_type": "stream",
          "name": "stdout",
          "text": [
            "Looking in indexes: https://pypi.org/simple, https://us-python.pkg.dev/colab-wheels/public/simple/\n",
            "Requirement already satisfied: transformers in /usr/local/lib/python3.7/dist-packages (4.24.0)\n",
            "Requirement already satisfied: huggingface-hub<1.0,>=0.10.0 in /usr/local/lib/python3.7/dist-packages (from transformers) (0.11.1)\n",
            "Requirement already satisfied: packaging>=20.0 in /usr/local/lib/python3.7/dist-packages (from transformers) (21.3)\n",
            "Requirement already satisfied: tqdm>=4.27 in /usr/local/lib/python3.7/dist-packages (from transformers) (4.64.1)\n",
            "Requirement already satisfied: requests in /usr/local/lib/python3.7/dist-packages (from transformers) (2.23.0)\n",
            "Requirement already satisfied: tokenizers!=0.11.3,<0.14,>=0.11.1 in /usr/local/lib/python3.7/dist-packages (from transformers) (0.13.2)\n",
            "Requirement already satisfied: importlib-metadata in /usr/local/lib/python3.7/dist-packages (from transformers) (4.13.0)\n",
            "Requirement already satisfied: filelock in /usr/local/lib/python3.7/dist-packages (from transformers) (3.8.0)\n",
            "Requirement already satisfied: regex!=2019.12.17 in /usr/local/lib/python3.7/dist-packages (from transformers) (2022.6.2)\n",
            "Requirement already satisfied: pyyaml>=5.1 in /usr/local/lib/python3.7/dist-packages (from transformers) (6.0)\n",
            "Requirement already satisfied: numpy>=1.17 in /usr/local/lib/python3.7/dist-packages (from transformers) (1.21.6)\n",
            "Requirement already satisfied: typing-extensions>=3.7.4.3 in /usr/local/lib/python3.7/dist-packages (from huggingface-hub<1.0,>=0.10.0->transformers) (4.1.1)\n",
            "Requirement already satisfied: pyparsing!=3.0.5,>=2.0.2 in /usr/local/lib/python3.7/dist-packages (from packaging>=20.0->transformers) (3.0.9)\n",
            "Requirement already satisfied: zipp>=0.5 in /usr/local/lib/python3.7/dist-packages (from importlib-metadata->transformers) (3.10.0)\n",
            "Requirement already satisfied: chardet<4,>=3.0.2 in /usr/local/lib/python3.7/dist-packages (from requests->transformers) (3.0.4)\n",
            "Requirement already satisfied: urllib3!=1.25.0,!=1.25.1,<1.26,>=1.21.1 in /usr/local/lib/python3.7/dist-packages (from requests->transformers) (1.24.3)\n",
            "Requirement already satisfied: certifi>=2017.4.17 in /usr/local/lib/python3.7/dist-packages (from requests->transformers) (2022.9.24)\n",
            "Requirement already satisfied: idna<3,>=2.5 in /usr/local/lib/python3.7/dist-packages (from requests->transformers) (2.10)\n"
          ]
        }
      ],
      "source": [
        "#for the similarity and linguistic models we use transformers\n",
        "! pip install transformers\n",
        "#transformers is a better library than parrot, manafactured by the same company hugging face, has a corpus of over 5 crore words mapped with their synonyms in various context based situations."
      ]
    },
    {
      "cell_type": "code",
      "execution_count": null,
      "metadata": {
        "colab": {
          "base_uri": "https://localhost:8080/"
        },
        "id": "yFreoOTik-Yk",
        "outputId": "9f24e3b3-1ef0-49c7-da3b-5d77a34c3814"
      },
      "outputs": [
        {
          "output_type": "stream",
          "name": "stdout",
          "text": [
            "Looking in indexes: https://pypi.org/simple, https://us-python.pkg.dev/colab-wheels/public/simple/\n",
            "Requirement already satisfied: SentencePiece in /usr/local/lib/python3.7/dist-packages (0.1.97)\n"
          ]
        }
      ],
      "source": [
        "! pip install SentencePiece\n",
        "#SentencePiece is used here only for tokenising purpose"
      ]
    },
    {
      "cell_type": "code",
      "execution_count": null,
      "metadata": {
        "id": "2awRcG3XldkC"
      },
      "outputs": [],
      "source": [
        "# https://huggingface.co/tuner007/pegasus_paraphrase\n",
        "#torch os imported from sentence-splitter and Pegasus from transformers\n",
        "import torch\n",
        "from transformers import PegasusForConditionalGeneration, PegasusTokenizer\n",
        "\n",
        "model_name = 'tuner007/pegasus_paraphrase'\n",
        "torch_device = 'cuda' if torch.cuda.is_available() else 'cpu'\n",
        "tokenizer = PegasusTokenizer.from_pretrained(model_name)\n",
        "model = PegasusForConditionalGeneration.from_pretrained(model_name).to(torch_device)\n",
        "\n",
        "def get_response(input_text,num_return_sequences):\n",
        "  batch = tokenizer.prepare_seq2seq_batch([input_text],truncation=True,padding='longest',max_length=60, return_tensors=\"pt\").to(torch_device)\n",
        "  translated = model.generate(**batch,max_length=60,num_beams=10, num_return_sequences=num_return_sequences, temperature=1.5)\n",
        "  tgt_text = tokenizer.batch_decode(translated, skip_special_tokens=True)\n",
        "  return tgt_text"
      ]
    },
    {
      "cell_type": "code",
      "execution_count": null,
      "metadata": {
        "colab": {
          "base_uri": "https://localhost:8080/"
        },
        "id": "iJQ4ptgKlEW3",
        "outputId": "f59c8423-1d6b-4995-c22b-93d723f09776"
      },
      "outputs": [
        {
          "output_type": "stream",
          "name": "stdout",
          "text": [
            "hello, my name is utsav.\n"
          ]
        }
      ],
      "source": [
        "#sample one-liner text to be paraphrased\n",
        "context = \"hello, my name is utsav.\"\n",
        "print(context)"
      ]
    },
    {
      "cell_type": "code",
      "execution_count": null,
      "metadata": {
        "colab": {
          "base_uri": "https://localhost:8080/"
        },
        "id": "ipdi14GOlUNz",
        "outputId": "e7548897-53ba-4627-d0f5-2ec4dae10fe7"
      },
      "outputs": [
        {
          "output_type": "execute_result",
          "data": {
            "text/plain": [
              "['Utsav is my name.',\n",
              " 'My name is Utsav.',\n",
              " 'Hello, my name is Utsav.',\n",
              " \"Hello, I'm Utsav.\",\n",
              " \"My name is Utsav and I'm here.\"]"
            ]
          },
          "metadata": {},
          "execution_count": 20
        }
      ],
      "source": [
        "#this generates 5 paraphrased sentences\n",
        "get_response(context, 5)"
      ]
    },
    {
      "cell_type": "code",
      "execution_count": null,
      "metadata": {
        "colab": {
          "base_uri": "https://localhost:8080/"
        },
        "id": "qSOC2BPwmHR7",
        "outputId": "6111a6c1-5dfe-4d0f-d179-6650ee75fcc7"
      },
      "outputs": [
        {
          "output_type": "execute_result",
          "data": {
            "text/plain": [
              "['Utsav is my name.']"
            ]
          },
          "metadata": {},
          "execution_count": 21
        }
      ],
      "source": [
        "#one paraphrased sentence\n",
        "get_response(context, 1)"
      ]
    },
    {
      "cell_type": "code",
      "execution_count": null,
      "metadata": {
        "colab": {
          "base_uri": "https://localhost:8080/"
        },
        "id": "udJnzqyemPD0",
        "outputId": "41636f9b-31d3-4b65-8a6c-1dc5c1fd189b"
      },
      "outputs": [
        {
          "output_type": "stream",
          "name": "stdout",
          "text": [
            "The session was all about education, explaining it in six approaches,\n",
            "of grasping the real essence of education, not just the bookish\n",
            "things.\n",
            "The knowledge of topic must comprise of three broad parametres ,\n",
            "what :- that implies the definition of thing, why :- this involves the\n",
            "reason that why knowing is important and how implies the process\n",
            "of grasping.\n",
            "The teaching style of the professor was pretty good, he explained all\n",
            "the points properly. Also, he gave real-life examples making it easier\n",
            "to understand everything.\n",
            "The prof mostly used practical and real life examples which his point\n",
            "very clearly understandable, and this technique further emphasised\n",
            "on his concept of what , why and how.\n",
            "There were few things in the class which I felt slightly off-track and\n",
            "difficult to perceive in that context.\n",
            "Failures are the stepping to success and we should never limit our\n",
            "knowledge to certain milestones rather constantly strive hard for\n",
            "improvement, were the major takeaways from the lecture.\n"
          ]
        }
      ],
      "source": [
        "#on the multiliner text\n",
        "text = \"\"\"The session was all about education, explaining it in six approaches,\n",
        "of grasping the real essence of education, not just the bookish\n",
        "things.\n",
        "The knowledge of topic must comprise of three broad parametres ,\n",
        "what :- that implies the definition of thing, why :- this involves the\n",
        "reason that why knowing is important and how implies the process\n",
        "of grasping.\n",
        "The teaching style of the professor was pretty good, he explained all\n",
        "the points properly. Also, he gave real-life examples making it easier\n",
        "to understand everything.\n",
        "The prof mostly used practical and real life examples which his point\n",
        "very clearly understandable, and this technique further emphasised\n",
        "on his concept of what , why and how.\n",
        "There were few things in the class which I felt slightly off-track and\n",
        "difficult to perceive in that context.\n",
        "Failures are the stepping to success and we should never limit our\n",
        "knowledge to certain milestones rather constantly strive hard for\n",
        "improvement, were the major takeaways from the lecture.\"\"\"\n",
        "print(text)"
      ]
    },
    {
      "cell_type": "code",
      "execution_count": null,
      "metadata": {
        "colab": {
          "base_uri": "https://localhost:8080/"
        },
        "id": "PNKDoW5mmULO",
        "outputId": "ccb364ca-214f-4176-ad9b-5ddb1437e277"
      },
      "outputs": [
        {
          "output_type": "execute_result",
          "data": {
            "text/plain": [
              "['The session was all about education, explaining it in six approaches,',\n",
              " 'of grasping the real essence of education, not just the bookish',\n",
              " 'things.',\n",
              " 'The knowledge of topic must comprise of three broad parametres ,',\n",
              " 'what :- that implies the definition of thing, why :- this involves the',\n",
              " 'reason that why knowing is important and how implies the process',\n",
              " 'of grasping.',\n",
              " 'The teaching style of the professor was pretty good, he explained all',\n",
              " 'the points properly.',\n",
              " 'Also, he gave real-life examples making it easier',\n",
              " 'to understand everything.',\n",
              " 'The prof mostly used practical and real life examples which his point',\n",
              " 'very clearly understandable, and this technique further emphasised',\n",
              " 'on his concept of what , why and how.',\n",
              " 'There were few things in the class which I felt slightly off-track and',\n",
              " 'difficult to perceive in that context.',\n",
              " 'Failures are the stepping to success and we should never limit our',\n",
              " 'knowledge to certain milestones rather constantly strive hard for',\n",
              " 'improvement, were the major takeaways from the lecture.']"
            ]
          },
          "metadata": {},
          "execution_count": 23
        }
      ],
      "source": [
        "#we use SentenceSplitter from the sentence_splitter library to split the sentences and to apply the paraphrasing operation sentence by sentence.\n",
        "from sentence_splitter import SentenceSplitter, split_text_into_sentences\n",
        "\n",
        "splitter = SentenceSplitter(language='en')\n",
        "\n",
        "sentence_list = splitter.split(text)\n",
        "sentence_list"
      ]
    },
    {
      "cell_type": "code",
      "execution_count": null,
      "metadata": {
        "id": "IYG60f19maqs"
      },
      "outputs": [],
      "source": [
        "#Every sentence seperated and put in the sentence_list are iterated one by one and the paraphrased counterparts are put in a paraphrase list.\n",
        "paraphrase = []\n",
        "\n",
        "for i in sentence_list:\n",
        "  a = get_response(i,1)\n",
        "  paraphrase.append(a)"
      ]
    },
    {
      "cell_type": "code",
      "execution_count": null,
      "metadata": {
        "colab": {
          "base_uri": "https://localhost:8080/"
        },
        "id": "O7sFlsT0melb",
        "outputId": "2b53fb3b-823a-4bb3-f469-08a59ccdcf2c"
      },
      "outputs": [
        {
          "output_type": "execute_result",
          "data": {
            "text/plain": [
              "[['The session was all about education.'],\n",
              " [\"It's not just the bookish that grasps the real essence of education.\"],\n",
              " ['There are things.'],\n",
              " ['There must be three broad parametres in the knowledge of the topic.'],\n",
              " ['This involves the definition of something.'],\n",
              " ['There is a reason why knowing is important.'],\n",
              " ['Of grasping.'],\n",
              " [\"He explained that the professor's teaching style was pretty good.\"],\n",
              " ['The points are correct.'],\n",
              " ['Making it easier was one of the real-life examples he gave.'],\n",
              " ['To understand everything.'],\n",
              " ['Practical and real life examples were used by the professor.'],\n",
              " ['This technique made it clear that it was very clearly understandable.'],\n",
              " ['His concept of what, why and how.'],\n",
              " [\"There were a few things in the class that I didn't like.\"],\n",
              " [\"It's difficult to see in that context.\"],\n",
              " ['We should never limit our ability to fail.'],\n",
              " ['Constantly strive for certain knowledge.'],\n",
              " ['The major lesson from the lecture was improvement.']]"
            ]
          },
          "metadata": {},
          "execution_count": 25
        }
      ],
      "source": [
        "#this operation paraphrases the sentences seperately, forms a list of lists.\n",
        "paraphrase"
      ]
    },
    {
      "cell_type": "code",
      "execution_count": null,
      "metadata": {
        "colab": {
          "base_uri": "https://localhost:8080/"
        },
        "id": "F2qoIz7pmn43",
        "outputId": "c1caff5b-608f-444b-f1c3-f29f98e85bd6"
      },
      "outputs": [
        {
          "output_type": "execute_result",
          "data": {
            "text/plain": [
              "['The session was all about education.',\n",
              " \"It's not just the bookish that grasps the real essence of education.\",\n",
              " 'There are things.',\n",
              " 'There must be three broad parametres in the knowledge of the topic.',\n",
              " 'This involves the definition of something.',\n",
              " 'There is a reason why knowing is important.',\n",
              " 'Of grasping.',\n",
              " \"He explained that the professor's teaching style was pretty good.\",\n",
              " 'The points are correct.',\n",
              " 'Making it easier was one of the real-life examples he gave.',\n",
              " 'To understand everything.',\n",
              " 'Practical and real life examples were used by the professor.',\n",
              " 'This technique made it clear that it was very clearly understandable.',\n",
              " 'His concept of what, why and how.',\n",
              " \"There were a few things in the class that I didn't like.\",\n",
              " \"It's difficult to see in that context.\",\n",
              " 'We should never limit our ability to fail.',\n",
              " 'Constantly strive for certain knowledge.',\n",
              " 'The major lesson from the lecture was improvement.']"
            ]
          },
          "metadata": {},
          "execution_count": 26
        }
      ],
      "source": [
        "paraphrase2 = [' '.join(x) for x in paraphrase]\n",
        "paraphrase2"
      ]
    },
    {
      "cell_type": "code",
      "execution_count": null,
      "metadata": {
        "colab": {
          "base_uri": "https://localhost:8080/",
          "height": 140
        },
        "id": "67DH2MglmqoG",
        "outputId": "b14018d3-e5e9-4622-de76-ed7a5d402253"
      },
      "outputs": [
        {
          "output_type": "execute_result",
          "data": {
            "text/plain": [
              "'\"The session was all about education. It\\'s not just the bookish that grasps the real essence of education. There are things. There must be three broad parametres in the knowledge of the topic. This involves the definition of something. There is a reason why knowing is important. Of grasping. He explained that the professor\\'s teaching style was pretty good. The points are correct. Making it easier was one of the real-life examples he gave. To understand everything. Practical and real life examples were used by the professor. This technique made it clear that it was very clearly understandable. His concept of what, why and how. There were a few things in the class that I didn\\'t like. It\\'s difficult to see in that context. We should never limit our ability to fail. Constantly strive for certain knowledge. The major lesson from the lecture was improvement.\"'"
            ],
            "application/vnd.google.colaboratory.intrinsic+json": {
              "type": "string"
            }
          },
          "metadata": {},
          "execution_count": 27
        }
      ],
      "source": [
        "#the sentences are joined to form a chunk.\n",
        "paraphrase3 = [' '.join(x for x in paraphrase2) ]\n",
        "paraphrased_text = str(paraphrase3).strip('[]').strip(\"'\")\n",
        "paraphrased_text"
      ]
    },
    {
      "cell_type": "code",
      "execution_count": null,
      "metadata": {
        "colab": {
          "base_uri": "https://localhost:8080/"
        },
        "id": "nrzDAhKfmtcc",
        "outputId": "d7e4537a-4bac-4127-9e47-00da32954824"
      },
      "outputs": [
        {
          "output_type": "stream",
          "name": "stdout",
          "text": [
            "\"The session was all about education. It's not just the bookish that grasps the real essence of education. There are things. There must be three broad parametres in the knowledge of the topic. This involves the definition of something. There is a reason why knowing is important. Of grasping. He explained that the professor's teaching style was pretty good. The points are correct. Making it easier was one of the real-life examples he gave. To understand everything. Practical and real life examples were used by the professor. This technique made it clear that it was very clearly understandable. His concept of what, why and how. There were a few things in the class that I didn't like. It's difficult to see in that context. We should never limit our ability to fail. Constantly strive for certain knowledge. The major lesson from the lecture was improvement.\"\n"
          ]
        }
      ],
      "source": [
        "# print(context)\n",
        "print(paraphrased_text)"
      ]
    }
  ],
  "metadata": {
    "colab": {
      "provenance": []
    },
    "kernelspec": {
      "display_name": "Python 3",
      "name": "python3"
    },
    "language_info": {
      "name": "python"
    }
  },
  "nbformat": 4,
  "nbformat_minor": 0
}